{
 "cells": [
  {
   "cell_type": "markdown",
   "metadata": {},
   "source": [
    "# **Retrieval Augmented Question & Answering using Amazon Bedrock, Amazon Kendra, Amazon S3 and LangChain**\n",
    "\n",
    "## **1. What are we going to build?**\n",
    "\n",
    "We have two options for enabling a LLM to understand and answer our private domain-specific questions:\n",
    "\n",
    "- Fine-tune the LLM on text data covering the topic mentioned.\n",
    "- Using Retrieval Augmented Generation (RAG), a technique that implements an information retrieval component to the generation process. Allowing us to retrieve relevant information and feed this information into the generation model as a secondary source of information.\n",
    "\n",
    "In this notebook, I will show you how to use the pattern of Retrieval Augmented Generation Question Answering using AWS Kendra, AWS S3 and AWS Bedrock.\n",
    "\n",
    "The following diagram shows what we're going build:\n",
    "\n",
    "- The private documents, about which we want to ask questions, are stored in an S3 bucket.\n",
    "- We have a Kendra Index with a connector to the S3 bucket. The Index checks the s3 bucket every N minutes for new content. If new content is found in the bucket, it gets automatically parsed and stored into Kendra database. \n",
    "- The Jupyter notebook, given a specific question, retrieves the most relevant documents from Kendra, assembles a prompt with the extracted information from Kendra, and sends it to one of the multiple avaiable LLMs in AWS Bedrock.\n",
    "\n",
    "![diagram](https://raw.githubusercontent.com/karlospn/building-qa-app-with-aws-bedrock-kendra-s3-and-streamlit/main/docs/aws-architecture-jupyter-notebook-langchain.png)\n",
    "\n",
    "\n",
    "\n",
    "## **2. Deploying an AWS Kendra index with an S3 connector and store documents on it**\n",
    "\n",
    "In the ``/infra`` folder, you'll find a series of Terraform files that will create everything you'll need.\n",
    "\n",
    "The Terraform files will create the following resources:\n",
    "- An s3 bucket with our private docs on it.\n",
    "- A Kendra index with an s3 connector.\n",
    "- An IAM role with the required permissions to make everything work.\n",
    "\n",
    "\n",
    "## **3. Building the RAG pattern using LangChain**\n",
    "\n",
    "[LangChain](https://python.langchain.com) is a Python library that streamlines the process of creating a RAG pattern with AWS Bedrock and Kendra. It offers a set of abstractions that simplifies every essential step of the RAG workflow.\n",
    "\n",
    "If you don't want to use a third party library like ``LangChain``, go take a look at my other Jupyther Notebook: ``rag-with-only-boto3``.    \n",
    "In there, I will show you how to build the exact same RAG pattern but using only ``boto3``.\n"
   ]
  },
  {
   "cell_type": "markdown",
   "metadata": {},
   "source": [
    "### **3.1 Import dependencies**"
   ]
  },
  {
   "cell_type": "code",
   "execution_count": 15,
   "metadata": {},
   "outputs": [],
   "source": [
    "from langchain.retrievers import AmazonKendraRetriever\n",
    "from langchain.llms.bedrock import Bedrock\n",
    "from langchain.chains import RetrievalQA\n",
    "from IPython.display import Markdown, display\n",
    "import boto3"
   ]
  },
  {
   "cell_type": "markdown",
   "metadata": {},
   "source": [
    "### **3.2. Create a LangChain Retriever** \n",
    "\n",
    "- A LangChain Retriever is an interface that returns documents given an unstructured query.\n",
    "- For retrieving the most pertinent documents from AWS Kendra based on a given query, we will use the ``AmazonKendraRetriever`` provided by LangChain."
   ]
  },
  {
   "cell_type": "code",
   "execution_count": 16,
   "metadata": {},
   "outputs": [],
   "source": [
    "kendra_client = boto3.client(\"kendra\", 'eu-west-1')\n",
    "kendra_index  = '03c49eca-c1f4-4e5d-b8d8-f913f02c5b4a'\n",
    "retriever = AmazonKendraRetriever(index_id=kendra_index, top_k=3, client=kendra_client, attribute_filter={\n",
    "    'EqualsTo': {\n",
    "        'Key': '_language_code',\n",
    "        'Value': {'StringValue': 'en'}\n",
    "    }\n",
    "})"
   ]
  },
  {
   "cell_type": "markdown",
   "metadata": {},
   "source": [
    "Here's a quick example of how you can employ the ``AmazonKendraRetriever`` to manually fetch the most relevant documents."
   ]
  },
  {
   "cell_type": "code",
   "execution_count": 17,
   "metadata": {},
   "outputs": [
    {
     "data": {
      "text/plain": [
       "[Document(page_content='Document Title: NET-Microservices-Architecture-for-Containerized-NET-Applications\\nDocument Excerpt: \\nThe alternative is to use SocketsHttpHandler with configured PooledConnectionLifetime. This approach is applied to long-lived, static or singleton HttpClient instances. To learn more about different strategies, see HttpClient guidelines for .NET. Polly is a transient-fault-handling library that helps developers add resiliency to their applications, by using some pre-defined policies in a fluent and thread-safe manner. Benefits of using IHttpClientFactory The current implementation of IHttpClientFactory, that also implements IHttpMessageHandlerFactory, offers the following benefits: • Provides a central location for naming and configuring logical HttpClient objects. For example, you may configure a client (Service Agent) that’s pre-configured to access a specific microservice. • Codify the concept of outgoing middleware via delegating handlers in HttpClient and implementing Polly-based middleware to take advantage of Polly’s policies for resiliency. • HttpClient already has the concept of delegating handlers that could be linked together for outgoing HTTP requests. You can register HTTP clients into the factory and you can use a Polly handler to use Polly policies for Retry, CircuitBreakers, and so on.\\n', metadata={'result_id': '91df771b-164e-4e61-8da3-66902bd08fe5-69f57432-46d5-4277-a41d-cee4323b7a56', 'document_id': 's3://s3-mtr-rag-docs-demo/NET-Microservices-Architecture-for-Containerized-NET-Applications', 'source': 'https://s3.eu-west-1.amazonaws.com/s3-mtr-rag-docs-demo/NET-Microservices-Architecture-for-Containerized-NET-Applications', 'title': 'NET-Microservices-Architecture-for-Containerized-NET-Applications', 'excerpt': 'The alternative is to use SocketsHttpHandler with configured PooledConnectionLifetime. This approach is applied to long-lived, static or singleton HttpClient instances. To learn more about different strategies, see HttpClient guidelines for .NET. Polly is a transient-fault-handling library that helps developers add resiliency to their applications, by using some pre-defined policies in a fluent and thread-safe manner. Benefits of using IHttpClientFactory The current implementation of IHttpClientFactory, that also implements IHttpMessageHandlerFactory, offers the following benefits: • Provides a central location for naming and configuring logical HttpClient objects. For example, you may configure a client (Service Agent) that’s pre-configured to access a specific microservice. • Codify the concept of outgoing middleware via delegating handlers in HttpClient and implementing Polly-based middleware to take advantage of Polly’s policies for resiliency. • HttpClient already has the concept of delegating handlers that could be linked together for outgoing HTTP requests. You can register HTTP clients into the factory and you can use a Polly handler to use Polly policies for Retry, CircuitBreakers, and so on.', 'document_attributes': {'_source_uri': 'https://s3.eu-west-1.amazonaws.com/s3-mtr-rag-docs-demo/NET-Microservices-Architecture-for-Containerized-NET-Applications', '_excerpt_page_number': 314}}),\n",
       " Document(page_content='Document Title: NET-Microservices-Architecture-for-Containerized-NET-Applications\\nDocument Excerpt: \\nTo address the issues mentioned above and to make HttpClient instances manageable, .NET Core 2.1 introduced two approaches, one of them being IHttpClientFactory. It’s an interface that’s used to configure and create HttpClient instances in an app through Dependency Injection (DI). It also provides extensions for Polly-based middleware to take advantage of delegating handlers in HttpClient. The alternative is to use SocketsHttpHandler with configured PooledConnectionLifetime. This approach is applied to long-lived, static or singleton HttpClient instances. To learn more about different strategies, see HttpClient guidelines for .NET. Polly is a transient-fault-handling library that helps developers add resiliency to their applications, by using some pre-defined policies in a fluent and thread-safe manner. Benefits of using IHttpClientFactory The current implementation of IHttpClientFactory, that also implements IHttpMessageHandlerFactory, offers the following benefits: • Provides a central location for naming and configuring logical HttpClient objects. For example, you may configure a client (Service Agent) that’s pre-configured to access a specific microservice. • Codify the concept of outgoing middleware via delegating handlers in HttpClient and implementing Polly-based middleware to take advantage of Polly’s policies for resiliency.\\n', metadata={'result_id': '91df771b-164e-4e61-8da3-66902bd08fe5-d0069b76-7f18-4fc9-8255-9ad868bd6979', 'document_id': 's3://s3-mtr-rag-docs-demo/NET-Microservices-Architecture-for-Containerized-NET-Applications', 'source': 'https://s3.eu-west-1.amazonaws.com/s3-mtr-rag-docs-demo/NET-Microservices-Architecture-for-Containerized-NET-Applications', 'title': 'NET-Microservices-Architecture-for-Containerized-NET-Applications', 'excerpt': 'To address the issues mentioned above and to make HttpClient instances manageable, .NET Core 2.1 introduced two approaches, one of them being IHttpClientFactory. It’s an interface that’s used to configure and create HttpClient instances in an app through Dependency Injection (DI). It also provides extensions for Polly-based middleware to take advantage of delegating handlers in HttpClient. The alternative is to use SocketsHttpHandler with configured PooledConnectionLifetime. This approach is applied to long-lived, static or singleton HttpClient instances. To learn more about different strategies, see HttpClient guidelines for .NET. Polly is a transient-fault-handling library that helps developers add resiliency to their applications, by using some pre-defined policies in a fluent and thread-safe manner. Benefits of using IHttpClientFactory The current implementation of IHttpClientFactory, that also implements IHttpMessageHandlerFactory, offers the following benefits: • Provides a central location for naming and configuring logical HttpClient objects. For example, you may configure a client (Service Agent) that’s pre-configured to access a specific microservice. • Codify the concept of outgoing middleware via delegating handlers in HttpClient and implementing Polly-based middleware to take advantage of Polly’s policies for resiliency.', 'document_attributes': {'_source_uri': 'https://s3.eu-west-1.amazonaws.com/s3-mtr-rag-docs-demo/NET-Microservices-Architecture-for-Containerized-NET-Applications', '_excerpt_page_number': 314}}),\n",
       " Document(page_content='Document Title: NET-Microservices-Architecture-for-Containerized-NET-Applications\\nDocument Excerpt: \\nIf you need to use HttpClient without DI or with other DI implementations, consider using a static or singleton HttpClient with PooledConnectionLifetime set up. For more information, see HttpClient guidelines for .NET. Multiple ways to use IHttpClientFactory There are several ways that you can use IHttpClientFactory in your application: • Basic usage • Use Named Clients • Use Typed Clients • Use Generated Clients For the sake of brevity, this guidance shows the most structured way to use IHttpClientFactory, which is to use Typed Clients (Service Agent pattern). However, all options are documented and are currently listed in this article covering the IHttpClientFactory usage. Multiple ways to use IHttpClientFactory There are several ways that you can use IHttpClientFactory in your application: • Basic usage • Use Named Clients • Use Typed Clients • Use Generated Clients For the sake of brevity, this guidance shows the most structured way to use IHttpClientFactory, which is to use Typed Clients (Service Agent pattern). However, all options are documented and are currently listed in this article covering the IHttpClientFactory usage. Note If your app requires cookies, it might be better to avoid using IHttpClientFactory in your app. For alternative ways of managing clients, see Guidelines for using HTTP clients How to use Typed Clients with IHttpClientFactory So, what’s a “Typed Client”? It’s just an HttpClient that’s pre-configured for some specific use. This configuration can include specific values such as the base server, HTTP headers or time outs. The following diagram shows how Typed Clients are used with IHttpClientFactory: https://docs.microsoft.com/dotnet/fundamentals/networking/http/httpclient-guidelines https://docs.microsoft.com/dotnet/fundamentals/networking/http/httpclient-guidelines https://docs.microsoft.com/aspnet/core/fundamentals/http-requests#consumption-patterns https://docs.microsoft.com/dotnet/api/system.net.http.ihttpclientfactory https://docs.microsoft.com/dotnet/fundamentals/networking/http/httpclient-guidelines 302 CHAPTER 7 | Implement resilient applications Figure 8-4.\\n', metadata={'result_id': '91df771b-164e-4e61-8da3-66902bd08fe5-3e3bc203-fed8-4204-836e-e156ede0b466', 'document_id': 's3://s3-mtr-rag-docs-demo/NET-Microservices-Architecture-for-Containerized-NET-Applications', 'source': 'https://s3.eu-west-1.amazonaws.com/s3-mtr-rag-docs-demo/NET-Microservices-Architecture-for-Containerized-NET-Applications', 'title': 'NET-Microservices-Architecture-for-Containerized-NET-Applications', 'excerpt': 'If you need to use HttpClient without DI or with other DI implementations, consider using a static or singleton HttpClient with PooledConnectionLifetime set up. For more information, see HttpClient guidelines for .NET. Multiple ways to use IHttpClientFactory There are several ways that you can use IHttpClientFactory in your application: • Basic usage • Use Named Clients • Use Typed Clients • Use Generated Clients For the sake of brevity, this guidance shows the most structured way to use IHttpClientFactory, which is to use Typed Clients (Service Agent pattern). However, all options are documented and are currently listed in this article covering the IHttpClientFactory usage. Multiple ways to use IHttpClientFactory There are several ways that you can use IHttpClientFactory in your application: • Basic usage • Use Named Clients • Use Typed Clients • Use Generated Clients For the sake of brevity, this guidance shows the most structured way to use IHttpClientFactory, which is to use Typed Clients (Service Agent pattern). However, all options are documented and are currently listed in this article covering the IHttpClientFactory usage. Note If your app requires cookies, it might be better to avoid using IHttpClientFactory in your app. For alternative ways of managing clients, see Guidelines for using HTTP clients How to use Typed Clients with IHttpClientFactory So, what’s a “Typed Client”? It’s just an HttpClient that’s pre-configured for some specific use. This configuration can include specific values such as the base server, HTTP headers or time outs. The following diagram shows how Typed Clients are used with IHttpClientFactory: https://docs.microsoft.com/dotnet/fundamentals/networking/http/httpclient-guidelines https://docs.microsoft.com/dotnet/fundamentals/networking/http/httpclient-guidelines https://docs.microsoft.com/aspnet/core/fundamentals/http-requests#consumption-patterns https://docs.microsoft.com/dotnet/api/system.net.http.ihttpclientfactory https://docs.microsoft.com/dotnet/fundamentals/networking/http/httpclient-guidelines 302 CHAPTER 7 | Implement resilient applications Figure 8-4.', 'document_attributes': {'_source_uri': 'https://s3.eu-west-1.amazonaws.com/s3-mtr-rag-docs-demo/NET-Microservices-Architecture-for-Containerized-NET-Applications', '_excerpt_page_number': 315}})]"
      ]
     },
     "execution_count": 17,
     "metadata": {},
     "output_type": "execute_result"
    }
   ],
   "source": [
    "retriever.get_relevant_documents('What are the benefits of using IHttpClientFactory?')"
   ]
  },
  {
   "cell_type": "markdown",
   "metadata": {},
   "source": [
    "### **3.3. Set up a LangChain RetrievalQA chain that uses AWS Bedrock Titan Text G1 Express LLM to generate responses to your questions**"
   ]
  },
  {
   "cell_type": "code",
   "execution_count": 18,
   "metadata": {},
   "outputs": [],
   "source": [
    "max_tokens = 1000\n",
    "temperature = 0.7\n",
    "bedrock_client = boto3.client(\"bedrock-runtime\", 'us-west-2')"
   ]
  },
  {
   "cell_type": "code",
   "execution_count": 19,
   "metadata": {},
   "outputs": [
    {
     "data": {
      "text/markdown": [
       " Provides a central location for naming and configuring logical HttpClient objects.\n",
       "Codify the concept of outgoing middleware via delegating handlers in HttpClient and implementing Polly-based middleware to take advantage of Polly’s policies for resiliency.\n",
       "HttpClient already has the concept of delegating handlers that could be linked together for outgoing HTTP requests.\n",
       "Offers the ability to create and configure HttpClient instances in an app through Dependency Injection (DI)."
      ],
      "text/plain": [
       "<IPython.core.display.Markdown object>"
      ]
     },
     "metadata": {},
     "output_type": "display_data"
    }
   ],
   "source": [
    "titan_llm = Bedrock(model_id=\"amazon.titan-text-express-v1\", \n",
    "        region_name='us-west-2', \n",
    "        client=bedrock_client, \n",
    "        model_kwargs={\"maxTokenCount\": max_tokens, \"temperature\": temperature})\n",
    "\n",
    "qa = RetrievalQA.from_chain_type(llm=titan_llm, chain_type=\"stuff\", retriever=retriever)\n",
    "answer = qa('What are the benefits of using IHttpClientFactory?')\n",
    "\n",
    "display(Markdown(answer['result']))"
   ]
  },
  {
   "cell_type": "markdown",
   "metadata": {},
   "source": [
    "### **3.4. Set up a LangChain RetrievalQA chain that use  AWS Bedrock Anthropic Claude V2 LLM to generate responses to your questions**"
   ]
  },
  {
   "cell_type": "code",
   "execution_count": 20,
   "metadata": {},
   "outputs": [
    {
     "data": {
      "text/markdown": [
       " Based on the document excerpts, some of the key benefits of using IHttpClientFactory are:\n",
       "\n",
       "- Provides a central location for naming and configuring logical HttpClient objects. For example, you can configure a client that's pre-configured to access a specific microservice.\n",
       "\n",
       "- Allows implementing Polly-based middleware to take advantage of Polly's policies for resiliency. \n",
       "\n",
       "- Codifies the concept of outgoing middleware via delegating handlers in HttpClient.\n",
       "\n",
       "- Makes HttpClient instances manageable by configuring and creating them through Dependency Injection.\n",
       "\n",
       "So in summary, it provides a centralized way to configure and manage HttpClient instances with added benefits like middleware and resiliency policies."
      ],
      "text/plain": [
       "<IPython.core.display.Markdown object>"
      ]
     },
     "metadata": {},
     "output_type": "display_data"
    }
   ],
   "source": [
    "claude_llm = Bedrock(model_id=\"anthropic.claude-v2\", region_name='us-west-2', \n",
    "                        client=bedrock_client, \n",
    "                        model_kwargs={\"max_tokens_to_sample\": max_tokens, \"temperature\": temperature})\n",
    "\n",
    "qa = RetrievalQA.from_chain_type(llm=claude_llm, chain_type=\"stuff\", retriever=retriever)\n",
    "answer = qa('What are the benefits of using IHttpClientFactory?')\n",
    "display(Markdown(answer['result']))"
   ]
  },
  {
   "cell_type": "markdown",
   "metadata": {},
   "source": [
    "### **3.5. Set up a LangChain RetrievalQA chain that uses AWS Bedrock Ai21Labs Jurassic-2 Ultra LLM to generate responses to your questions**"
   ]
  },
  {
   "cell_type": "code",
   "execution_count": 21,
   "metadata": {},
   "outputs": [
    {
     "data": {
      "text/markdown": [
       "\n",
       "IHttpClientFactory provides a central location for naming and configuring logical HttpClient objects, as well as codifying the concept of outgoing middleware via delegating handlers in HttpClient and implementing Polly-based middleware to take advantage of Polly's policies for resiliency."
      ],
      "text/plain": [
       "<IPython.core.display.Markdown object>"
      ]
     },
     "metadata": {},
     "output_type": "display_data"
    }
   ],
   "source": [
    "ai21_j2_ultra_llm = Bedrock(model_id=\"ai21.j2-ultra-v1\", region_name='us-west-2', \n",
    "                        client=bedrock_client, \n",
    "                        model_kwargs={\"maxTokens\": max_tokens, \"temperature\": temperature})\n",
    "\n",
    "qa = RetrievalQA.from_chain_type(llm=ai21_j2_ultra_llm, chain_type=\"stuff\", retriever=retriever)\n",
    "answer = qa('What are the benefits of using IHttpClientFactory?')\n",
    "display(Markdown(answer['result']))"
   ]
  }
 ],
 "metadata": {
  "kernelspec": {
   "display_name": ".venv",
   "language": "python",
   "name": "python3"
  },
  "language_info": {
   "codemirror_mode": {
    "name": "ipython",
    "version": 3
   },
   "file_extension": ".py",
   "mimetype": "text/x-python",
   "name": "python",
   "nbconvert_exporter": "python",
   "pygments_lexer": "ipython3",
   "version": "3.10.11"
  },
  "orig_nbformat": 4
 },
 "nbformat": 4,
 "nbformat_minor": 2
}
