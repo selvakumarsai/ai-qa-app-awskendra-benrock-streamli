{
 "cells": [
  {
   "cell_type": "markdown",
   "metadata": {},
   "source": [
    "# **Retrieval Augmented Question & Answering using Amazon Bedrock, Amazon Kendra, Amazon S3 and the AWS SDK for Python library (boto3)**\n",
    "\n",
    "## **1. What are we going to build?**\n",
    "\n",
    "We have two options for enabling a LLM to understand and answer our private domain-specific questions:\n",
    "\n",
    "- Fine-tune the LLM on text data covering the topic mentioned.\n",
    "- Using Retrieval Augmented Generation (RAG), a technique that implements an information retrieval component to the generation process. Allowing us to retrieve relevant information and feed this information into the generation model as a secondary source of information.\n",
    "\n",
    "In this notebook, I will show you how to use the pattern of Retrieval Augmented Generation Question Answering using AWS Kendra, AWS S3 and AWS Bedrock.\n",
    "\n",
    "The following diagram shows what we're going build:\n",
    "\n",
    "- The private documents, about which we want to ask questions, are stored in an S3 bucket.\n",
    "- We have a Kendra Index with a connector to the S3 bucket. The Index checks the s3 bucket every N minutes for new content. If new content is found in the bucket, it gets automatically parsed and stored into Kendra database. \n",
    "- The Jupyter notebook, given a specific question, retrieves the most relevant paragraphs from Kendra, assembles a prompt with the extracted information from Kendra, and sends it to one of the multiple available LLMs in AWS Bedrock.\n",
    "\n",
    "![diagram](https://raw.githubusercontent.com/karlospn/building-qa-app-with-aws-bedrock-kendra-s3-and-streamlit/main/docs/aws-architecture-jupyter-notebook.png)\n",
    "\n",
    "\n",
    "\n",
    "## **2. Deploying an AWS Kendra index with an S3 connector and store documents on it**\n",
    "\n",
    "In the ``/infra`` folder, you'll find a series of Terraform files that will create everything you'll need.\n",
    "\n",
    "The Terraform files will create the following resources:\n",
    "- An s3 bucket with our private docs on it.\n",
    "- A Kendra index with an s3 connector.\n",
    "- An IAM role with the required permissions to make everything work.\n",
    "\n",
    "\n",
    "## **3. Building the RAG pattern using boto3**\n",
    "\n",
    "We're going to use the ``boto3`` library to interact with AWS Kendra and AWS Bedrock.\n",
    "\n",
    "[LangChain](https://python.langchain.com) streamlines the process of creating a RAG pattern on AWS quite a bit.     \n",
    "If you want to see how to build exactly the same RAG pattern, but this time using ``LangChain`` instead of ``boto3``, go take a look at my other Jupyther Notebook: ``rag-with-langchain``.\n"
   ]
  },
  {
   "cell_type": "markdown",
   "metadata": {},
   "source": [
    "### **3.1 Import dependencies**"
   ]
  },
  {
   "cell_type": "code",
   "execution_count": 19,
   "metadata": {},
   "outputs": [],
   "source": [
    "from IPython.display import Markdown, display\n",
    "import boto3\n",
    "import json"
   ]
  },
  {
   "cell_type": "markdown",
   "metadata": {},
   "source": [
    "### **3.2. Given a specific query, retrieve the most relevant documents from Kendra** "
   ]
  },
  {
   "cell_type": "code",
   "execution_count": 20,
   "metadata": {},
   "outputs": [],
   "source": [
    "query = 'What are the benefits of using IHttpClientFactory?'"
   ]
  },
  {
   "cell_type": "code",
   "execution_count": 21,
   "metadata": {},
   "outputs": [
    {
     "name": "stdout",
     "output_type": "stream",
     "text": [
      "The alternative is to use SocketsHttpHandler with configured PooledConnectionLifetime. This approach is applied to long-lived, static or singleton HttpClient instances. To learn more about different strategies, see HttpClient guidelines for .NET. Polly is a transient-fault-handling library that helps developers add resiliency to their applications, by using some pre-defined policies in a fluent and thread-safe manner. Benefits of using IHttpClientFactory The current implementation of IHttpClientFactory, that also implements IHttpMessageHandlerFactory, offers the following benefits: • Provides a central location for naming and configuring logical HttpClient objects. For example, you may configure a client (Service Agent) that’s pre-configured to access a specific microservice. • Codify the concept of outgoing middleware via delegating handlers in HttpClient and implementing Polly-based middleware to take advantage of Polly’s policies for resiliency. • HttpClient already has the concept of delegating handlers that could be linked together for outgoing HTTP requests. You can register HTTP clients into the factory and you can use a Polly handler to use Polly policies for Retry, CircuitBreakers, and so on.\n",
      "To address the issues mentioned above and to make HttpClient instances manageable, .NET Core 2.1 introduced two approaches, one of them being IHttpClientFactory. It’s an interface that’s used to configure and create HttpClient instances in an app through Dependency Injection (DI). It also provides extensions for Polly-based middleware to take advantage of delegating handlers in HttpClient. The alternative is to use SocketsHttpHandler with configured PooledConnectionLifetime. This approach is applied to long-lived, static or singleton HttpClient instances. To learn more about different strategies, see HttpClient guidelines for .NET. Polly is a transient-fault-handling library that helps developers add resiliency to their applications, by using some pre-defined policies in a fluent and thread-safe manner. Benefits of using IHttpClientFactory The current implementation of IHttpClientFactory, that also implements IHttpMessageHandlerFactory, offers the following benefits: • Provides a central location for naming and configuring logical HttpClient objects. For example, you may configure a client (Service Agent) that’s pre-configured to access a specific microservice. • Codify the concept of outgoing middleware via delegating handlers in HttpClient and implementing Polly-based middleware to take advantage of Polly’s policies for resiliency.\n",
      "If you need to use HttpClient without DI or with other DI implementations, consider using a static or singleton HttpClient with PooledConnectionLifetime set up. For more information, see HttpClient guidelines for .NET. Multiple ways to use IHttpClientFactory There are several ways that you can use IHttpClientFactory in your application: • Basic usage • Use Named Clients • Use Typed Clients • Use Generated Clients For the sake of brevity, this guidance shows the most structured way to use IHttpClientFactory, which is to use Typed Clients (Service Agent pattern). However, all options are documented and are currently listed in this article covering the IHttpClientFactory usage. Multiple ways to use IHttpClientFactory There are several ways that you can use IHttpClientFactory in your application: • Basic usage • Use Named Clients • Use Typed Clients • Use Generated Clients For the sake of brevity, this guidance shows the most structured way to use IHttpClientFactory, which is to use Typed Clients (Service Agent pattern). However, all options are documented and are currently listed in this article covering the IHttpClientFactory usage. Note If your app requires cookies, it might be better to avoid using IHttpClientFactory in your app. For alternative ways of managing clients, see Guidelines for using HTTP clients How to use Typed Clients with IHttpClientFactory So, what’s a “Typed Client”? It’s just an HttpClient that’s pre-configured for some specific use. This configuration can include specific values such as the base server, HTTP headers or time outs. The following diagram shows how Typed Clients are used with IHttpClientFactory: https://docs.microsoft.com/dotnet/fundamentals/networking/http/httpclient-guidelines https://docs.microsoft.com/dotnet/fundamentals/networking/http/httpclient-guidelines https://docs.microsoft.com/aspnet/core/fundamentals/http-requests#consumption-patterns https://docs.microsoft.com/dotnet/api/system.net.http.ihttpclientfactory https://docs.microsoft.com/dotnet/fundamentals/networking/http/httpclient-guidelines 302 CHAPTER 7 | Implement resilient applications Figure 8-4.\n"
     ]
    }
   ],
   "source": [
    "import boto3\n",
    "\n",
    "kendra_client = boto3.client(\"kendra\", 'eu-west-1')\n",
    "kendra_index  = '03c49eca-c1f4-4e5d-b8d8-f913f02c5b4a'\n",
    "\n",
    "result = kendra_client.retrieve(QueryText = query,IndexId = \n",
    "                                kendra_index,  \n",
    "                                PageSize = 3,\n",
    "                                PageNumber = 1)\n",
    "\n",
    "chunks = [retrieve_result[\"Content\"] for retrieve_result in result[\"ResultItems\"]]\n",
    "joined_chunks = \"\\n\".join(chunks)\n",
    "print(joined_chunks)"
   ]
  },
  {
   "cell_type": "markdown",
   "metadata": {},
   "source": [
    "### **3.3. Construct the prompt using the documents acquired from AWS Kendra**"
   ]
  },
  {
   "cell_type": "code",
   "execution_count": 22,
   "metadata": {},
   "outputs": [
    {
     "data": {
      "text/markdown": [
       "\n",
       "Human: Answer the following question based on the context below.\n",
       "If you don't know the answer, just say that you don't know. Don't try to make up an answer. Do not answer beyond this context.\n",
       "---\n",
       "QUESTION: What are the benefits of using IHttpClientFactory?                                            \n",
       "---\n",
       "CONTEXT:\n",
       "The alternative is to use SocketsHttpHandler with configured PooledConnectionLifetime. This approach is applied to long-lived, static or singleton HttpClient instances. To learn more about different strategies, see HttpClient guidelines for .NET. Polly is a transient-fault-handling library that helps developers add resiliency to their applications, by using some pre-defined policies in a fluent and thread-safe manner. Benefits of using IHttpClientFactory The current implementation of IHttpClientFactory, that also implements IHttpMessageHandlerFactory, offers the following benefits: • Provides a central location for naming and configuring logical HttpClient objects. For example, you may configure a client (Service Agent) that’s pre-configured to access a specific microservice. • Codify the concept of outgoing middleware via delegating handlers in HttpClient and implementing Polly-based middleware to take advantage of Polly’s policies for resiliency. • HttpClient already has the concept of delegating handlers that could be linked together for outgoing HTTP requests. You can register HTTP clients into the factory and you can use a Polly handler to use Polly policies for Retry, CircuitBreakers, and so on.\n",
       "To address the issues mentioned above and to make HttpClient instances manageable, .NET Core 2.1 introduced two approaches, one of them being IHttpClientFactory. It’s an interface that’s used to configure and create HttpClient instances in an app through Dependency Injection (DI). It also provides extensions for Polly-based middleware to take advantage of delegating handlers in HttpClient. The alternative is to use SocketsHttpHandler with configured PooledConnectionLifetime. This approach is applied to long-lived, static or singleton HttpClient instances. To learn more about different strategies, see HttpClient guidelines for .NET. Polly is a transient-fault-handling library that helps developers add resiliency to their applications, by using some pre-defined policies in a fluent and thread-safe manner. Benefits of using IHttpClientFactory The current implementation of IHttpClientFactory, that also implements IHttpMessageHandlerFactory, offers the following benefits: • Provides a central location for naming and configuring logical HttpClient objects. For example, you may configure a client (Service Agent) that’s pre-configured to access a specific microservice. • Codify the concept of outgoing middleware via delegating handlers in HttpClient and implementing Polly-based middleware to take advantage of Polly’s policies for resiliency.\n",
       "If you need to use HttpClient without DI or with other DI implementations, consider using a static or singleton HttpClient with PooledConnectionLifetime set up. For more information, see HttpClient guidelines for .NET. Multiple ways to use IHttpClientFactory There are several ways that you can use IHttpClientFactory in your application: • Basic usage • Use Named Clients • Use Typed Clients • Use Generated Clients For the sake of brevity, this guidance shows the most structured way to use IHttpClientFactory, which is to use Typed Clients (Service Agent pattern). However, all options are documented and are currently listed in this article covering the IHttpClientFactory usage. Multiple ways to use IHttpClientFactory There are several ways that you can use IHttpClientFactory in your application: • Basic usage • Use Named Clients • Use Typed Clients • Use Generated Clients For the sake of brevity, this guidance shows the most structured way to use IHttpClientFactory, which is to use Typed Clients (Service Agent pattern). However, all options are documented and are currently listed in this article covering the IHttpClientFactory usage. Note If your app requires cookies, it might be better to avoid using IHttpClientFactory in your app. For alternative ways of managing clients, see Guidelines for using HTTP clients How to use Typed Clients with IHttpClientFactory So, what’s a “Typed Client”? It’s just an HttpClient that’s pre-configured for some specific use. This configuration can include specific values such as the base server, HTTP headers or time outs. The following diagram shows how Typed Clients are used with IHttpClientFactory: https://docs.microsoft.com/dotnet/fundamentals/networking/http/httpclient-guidelines https://docs.microsoft.com/dotnet/fundamentals/networking/http/httpclient-guidelines https://docs.microsoft.com/aspnet/core/fundamentals/http-requests#consumption-patterns https://docs.microsoft.com/dotnet/api/system.net.http.ihttpclientfactory https://docs.microsoft.com/dotnet/fundamentals/networking/http/httpclient-guidelines 302 CHAPTER 7 | Implement resilient applications Figure 8-4.\n",
       "\n",
       "Assistant:"
      ],
      "text/plain": [
       "<IPython.core.display.Markdown object>"
      ]
     },
     "metadata": {},
     "output_type": "display_data"
    }
   ],
   "source": [
    "prompt = f\"\"\"\n",
    "Human: Answer the following question based on the context below.\n",
    "If you don't know the answer, just say that you don't know. Don't try to make up an answer. Do not answer beyond this context.\n",
    "---\n",
    "QUESTION: {query}                                            \n",
    "---\n",
    "CONTEXT:\n",
    "{joined_chunks}\n",
    "\n",
    "Assistant:\"\"\"\n",
    "\n",
    "display(Markdown(prompt))"
   ]
  },
  {
   "cell_type": "markdown",
   "metadata": {},
   "source": [
    "### **3.4. Send the generated prompt to AWS Bedrock Titan Text G1 Express LLM and receive the corresponding response**"
   ]
  },
  {
   "cell_type": "code",
   "execution_count": 23,
   "metadata": {},
   "outputs": [
    {
     "data": {
      "text/markdown": [
       " The current implementation of IHttpClientFactory, that also implements IHttpMessageHandlerFactory, offers the following benefits:\n",
       "* Provides a central location for naming and configuring logical HttpClient objects.\n",
       "* Codify the concept of outgoing middleware via delegating handlers in HttpClient and implementing Polly-based middleware to take advantage of Polly’s policies for resiliency.\n",
       "* HttpClient already has the concept of delegating handlers that could be linked together for outgoing HTTP requests.\n",
       "* You can register HTTP clients into the factory and you can use a Polly handler to use Polly policies for Retry, CircuitBreakers, and so on."
      ],
      "text/plain": [
       "<IPython.core.display.Markdown object>"
      ]
     },
     "metadata": {},
     "output_type": "display_data"
    }
   ],
   "source": [
    "bedrock_client = boto3.client(\"bedrock-runtime\", 'us-west-2')\n",
    "body = json.dumps({\n",
    "    \"inputText\": prompt, \n",
    "    \"textGenerationConfig\":{\n",
    "        \"maxTokenCount\":1500,\n",
    "        \"temperature\":0.7,\n",
    "    }\n",
    "}) \n",
    "\n",
    "response = bedrock_client.invoke_model(body=body, modelId='amazon.titan-text-express-v1')\n",
    "result = json.loads(response.get('body').read())\n",
    "\n",
    "display(Markdown(result.get('results')[0].get('outputText')))"
   ]
  },
  {
   "cell_type": "markdown",
   "metadata": {},
   "source": [
    "### **3.5. Send the generated prompt to AWS Bedrock Anthropic Claude v2 LLM and receive the corresponding response**"
   ]
  },
  {
   "cell_type": "code",
   "execution_count": 24,
   "metadata": {},
   "outputs": [
    {
     "name": "stdout",
     "output_type": "stream",
     "text": [
      " Based on the provided context, some key benefits of using IHttpClientFactory include:\n",
      "\n",
      "- It provides a central location for configuring and naming logical HttpClient instances. This makes it easier to manage and reuse HttpClients across an application.\n",
      "\n",
      "- It allows codifying the concept of outgoing middleware via delegating handlers in HttpClient. This makes it easy to integrate Polly policies for resiliency.\n",
      "\n",
      "- It enables registering HttpClients into the factory and using Polly handlers to apply resiliency policies like retry, circuit breakers, etc. \n",
      "\n",
      "- It offers multiple ways to use it - basic usage, named clients, typed clients, generated clients. The typed client approach provides a clean way to define HttpClients for specific use cases.\n",
      "\n",
      "- Compared to using static/singleton HttpClient, it provides better lifetime management, configuration and middleware integration.\n",
      "\n",
      "So in summary, it makes working with HttpClient more structured, maintainable and resilient.\n"
     ]
    }
   ],
   "source": [
    "bedrock_client = boto3.client(\"bedrock-runtime\", 'us-west-2')\n",
    "\n",
    "body = json.dumps({\n",
    "    \"prompt\": prompt, \n",
    "    \"max_tokens_to_sample\": 1500, \n",
    "    \"temperature\": 0.7\n",
    "})\n",
    "\n",
    "response = bedrock_client.invoke_model(\n",
    "    body=body, \n",
    "    modelId='anthropic.claude-v2'\n",
    ")\n",
    "response_body = json.loads(response.get(\"body\").read())\n",
    "\n",
    "print(response_body.get(\"completion\"))"
   ]
  },
  {
   "cell_type": "markdown",
   "metadata": {},
   "source": [
    "### **3.6. Send the generated prompt to AWS Bedrock Ai21Labs Jurassic-2 Ultra LLM and receive the corresponding response**"
   ]
  },
  {
   "cell_type": "code",
   "execution_count": 25,
   "metadata": {},
   "outputs": [
    {
     "name": "stdout",
     "output_type": "stream",
     "text": [
      " Based on the context provided, the benefits of using IHttpClientFactory include:\n",
      "\n",
      "1. Providing a central location for naming and configuring logical HttpClient objects. For example, you can preconfigure a client that is specifically configured to access a specific microservice.\n",
      "2. Codifying the concept of outgoing middleware via delegating handlers in HttpClient and implementing Polly-based middleware to take advantage of Polly's policies for resiliency.\n",
      "3. Managing HttpClient instances through Dependency Injection (DI).\n",
      "\n",
      "Please note that if your application requires cookie management, it may be better to avoid using IHttpClientFactory and instead use an alternative method for managing your HttpClient clients.\n"
     ]
    }
   ],
   "source": [
    "bedrock_client = boto3.client(\"bedrock-runtime\", 'us-west-2')\n",
    "\n",
    "body = json.dumps({\n",
    "    \"prompt\": prompt, \n",
    "    \"maxTokens\": 1500, \n",
    "    \"temperature\": 0.7\n",
    "})\n",
    "\n",
    "response = bedrock_client.invoke_model(\n",
    "    body=body, \n",
    "    modelId='ai21.j2-ultra-v1'\n",
    ")\n",
    "response_body = json.loads(response.get(\"body\").read())\n",
    "\n",
    "print(response_body.get(\"completions\")[0].get(\"data\").get(\"text\"))"
   ]
  }
 ],
 "metadata": {
  "kernelspec": {
   "display_name": ".venv",
   "language": "python",
   "name": "python3"
  },
  "language_info": {
   "codemirror_mode": {
    "name": "ipython",
    "version": 3
   },
   "file_extension": ".py",
   "mimetype": "text/x-python",
   "name": "python",
   "nbconvert_exporter": "python",
   "pygments_lexer": "ipython3",
   "version": "3.10.11"
  },
  "orig_nbformat": 4
 },
 "nbformat": 4,
 "nbformat_minor": 2
}
